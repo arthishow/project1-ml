{
 "cells": [
  {
   "cell_type": "code",
   "execution_count": 1,
   "metadata": {},
   "outputs": [],
   "source": [
    "from proj1_helpers import *\n",
    "from implementations import *\n",
    "from costs import *\n",
    "from helper import *\n",
    "from plots import *\n",
    "\n",
    "%matplotlib inline\n",
    "import numpy as np\n",
    "import matplotlib.pyplot as plt\n",
    "import pandas as pd\n",
    "%load_ext autoreload\n",
    "%autoreload 2"
   ]
  },
  {
   "cell_type": "code",
   "execution_count": 2,
   "metadata": {
    "collapsed": true
   },
   "outputs": [],
   "source": [
    "DATA_PATH = 'data/'\n",
    "PREDICTION_PATH = 'predictions/'"
   ]
  },
  {
   "cell_type": "code",
   "execution_count": 3,
   "metadata": {},
   "outputs": [
    {
     "name": "stdout",
     "output_type": "stream",
     "text": [
      "y_tr.shape = (250000,)\n",
      "x_tr.shape = (250000, 30)\n",
      "ids_tr.shape = (250000,)\n"
     ]
    }
   ],
   "source": [
    "##Import training data\n",
    "y_tr, x_tr, ids_tr = load_csv_data(DATA_PATH + \"train.csv\")\n",
    "\n",
    "print('y_tr.shape =', y_tr.shape)\n",
    "print('x_tr.shape =', x_tr.shape)\n",
    "print('ids_tr.shape =', ids_tr.shape)"
   ]
  },
  {
   "cell_type": "code",
   "execution_count": 17,
   "metadata": {},
   "outputs": [
    {
     "name": "stdout",
     "output_type": "stream",
     "text": [
      "y_te.shape = (568238,)\n",
      "x_te.shape = (568238, 30)\n",
      "ids_te.shape = (568238,)\n"
     ]
    }
   ],
   "source": [
    "# Import Test data\n",
    "y_te, x_te, ids_te = load_csv_data(DATA_PATH + \"test.csv\")\n",
    "\n",
    "print('y_te.shape =', y_te.shape)\n",
    "print('x_te.shape =', x_te.shape)\n",
    "print('ids_te.shape =', ids_te.shape)"
   ]
  },
  {
   "cell_type": "markdown",
   "metadata": {},
   "source": [
    "# Additionnal Function"
   ]
  },
  {
   "cell_type": "code",
   "execution_count": 4,
   "metadata": {
    "collapsed": true
   },
   "outputs": [],
   "source": [
    "def fast_buildpoly(x,ma,degree):\n",
    "    return np.c_[ma,np.power(x, degree)]"
   ]
  },
  {
   "cell_type": "code",
   "execution_count": 5,
   "metadata": {
    "collapsed": true
   },
   "outputs": [],
   "source": [
    "def filter_sub(x_sub,ind=True):\n",
    "    ## This Function Clean the subset data\n",
    "    \n",
    "    ## This loop count the number of outliers in the columns, if the column is full of outlier, It is removed.\n",
    "    idex = []\n",
    "    for i in range(len(np.transpose(x_sub))):\n",
    "        j = 0\n",
    "        for x in np.transpose(x_sub)[i]:\n",
    "            if x==-999 or x == 0:\n",
    "                   j += 1\n",
    "        if j == len(x_sub):\n",
    "               idex.append(i)\n",
    "    ## If sup is True the function delete the \"index\" columns (line 22 of the data). \n",
    "    if ind:\n",
    "        idex.append(22) \n",
    "    x_without_er = np.delete(x_sub,idex,1)\n",
    "    \n",
    "\n",
    "    x_without_er=set_missing_values_to_mean(x_without_er)\n",
    "    ## This loop, find columns that are strongly correlate and delete one of them\n",
    "    idex=[]\n",
    "    for i in range(len(x_without_er.T)):\n",
    "        \n",
    "        for j in range(len(x_without_er.T)):\n",
    "            \n",
    "            if i != j and i < j:\n",
    "                corr = np.abs(np.corrcoef(x_without_er.T[j], x_without_er.T[i])[1][0])\n",
    "                if corr > 0.9:\n",
    "                    idex.append(i)\n",
    "                    \n",
    "    x_fin = np.delete(x_without_er,idex,1)\n",
    "    \n",
    "    return x_fin , np.mean(x_fin,axis=0), np.std(x_fin,axis=0)"
   ]
  },
  {
   "cell_type": "markdown",
   "metadata": {},
   "source": [
    "## Divide into Subset"
   ]
  },
  {
   "cell_type": "code",
   "execution_count": 6,
   "metadata": {
    "collapsed": true
   },
   "outputs": [],
   "source": [
    "x_sub0=[]\n",
    "x_sub1=[]\n",
    "x_sub2=[]\n",
    "x_sub3=[]\n",
    "y_sub0=[]\n",
    "y_sub1=[]\n",
    "y_sub2=[]\n",
    "y_sub3=[]\n",
    "for i in range(len(x_tr)):\n",
    "    if x_tr[i][22] == 0:\n",
    "        x_sub0.append(x_tr[i])\n",
    "        y_sub0.append(y_tr[i])\n",
    "    elif x_tr[i][22] == 1:\n",
    "        x_sub1.append(x_tr[i])\n",
    "        y_sub1.append(y_tr[i])\n",
    "    elif x_tr[i][22] == 2:\n",
    "        x_sub2.append(x_tr[i])\n",
    "        y_sub2.append(y_tr[i])\n",
    "    else:\n",
    "        x_sub3.append(x_tr[i])\n",
    "        y_sub3.append(y_tr[i])"
   ]
  },
  {
   "cell_type": "code",
   "execution_count": 7,
   "metadata": {
    "collapsed": true
   },
   "outputs": [],
   "source": [
    "def apply_least_squares(x,y,maxdegree):\n",
    "    degrees = np.arange(maxdegree) + 1\n",
    "    acc = []\n",
    "    we=[]\n",
    "    \n",
    "    poly = np.ones((x.shape[0], 1))\n",
    "    \n",
    "    for degree in degrees:\n",
    "        poly = fast_buildpoly(x,poly, degree)\n",
    "        w, loss = least_squares(y, poly)\n",
    "        we.append(w)\n",
    "        acc.append(compute_categorical_loss(y, poly, w))\n",
    "        \n",
    "    plt.plot(degrees, acc, 'r') \n",
    "    plt.xlabel('Degree')\n",
    "    plt.ylabel('Error')\n",
    "    plt.show()\n",
    "    print('Min =', min(acc))\n",
    "    print('Best degree =', acc.index(min(acc)) + 1)\n",
    "    return we[acc.index(min(acc))] "
   ]
  },
  {
   "cell_type": "markdown",
   "metadata": {},
   "source": [
    "## Train subset 0"
   ]
  },
  {
   "cell_type": "code",
   "execution_count": 8,
   "metadata": {
    "collapsed": true
   },
   "outputs": [],
   "source": [
    "xfsub0, mean0, std0 = filter_sub(x_sub0)\n",
    "# Standardize the dataset\n",
    "xfsub_0 = (xfsub0-mean0)/std0\n",
    "y_sub0 = np.array(y_sub0)"
   ]
  },
  {
   "cell_type": "code",
   "execution_count": 23,
   "metadata": {},
   "outputs": [
    {
     "data": {
      "image/png": "[encoded data removed]",
      "text/plain": [
       "<matplotlib.figure.Figure at 0x23908af4358>"
      ]
     },
     "metadata": {},
     "output_type": "display_data"
    },
    {
     "name": "stdout",
     "output_type": "stream",
     "text": [
      "Min = 0.15687648254\n",
      "Best degree = 9\n"
     ]
    }
   ],
   "source": [
    "w_0=apply_least_squares(xfsub_0,y_sub0,30)"
   ]
  },
  {
   "cell_type": "markdown",
   "metadata": {},
   "source": [
    "## Train Subset 1"
   ]
  },
  {
   "cell_type": "code",
   "execution_count": 127,
   "metadata": {
    "collapsed": true
   },
   "outputs": [],
   "source": [
    "xfsub_1, mean1, std1 = filter_sub(x_sub1)\n",
    "xfsub_1 = (xfsub_1-mean1)/std1\n",
    "y_sub1  = np.array(y_sub1)"
   ]
  },
  {
   "cell_type": "code",
   "execution_count": 25,
   "metadata": {},
   "outputs": [
    {
     "data": {
      "image/png": "[encoded data removed]",
      "text/plain": [
       "<matplotlib.figure.Figure at 0x2391035bba8>"
      ]
     },
     "metadata": {},
     "output_type": "display_data"
    },
    {
     "name": "stdout",
     "output_type": "stream",
     "text": [
      "Min = 0.193193541731\n",
      "Best degree = 16\n"
     ]
    }
   ],
   "source": [
    "w_1=apply_least_squares(xfsub_1,y_sub1,30)"
   ]
  },
  {
   "cell_type": "markdown",
   "metadata": {},
   "source": [
    "## Train subset 2:"
   ]
  },
  {
   "cell_type": "code",
   "execution_count": 145,
   "metadata": {
    "collapsed": true
   },
   "outputs": [],
   "source": [
    "xfsub_2, mean2, std2 = filter_sub(x_sub2)\n",
    "xfsub_2 = (xfsub_2-mean2)/std2\n",
    "y_sub2  = np.array(y_sub2)"
   ]
  },
  {
   "cell_type": "code",
   "execution_count": 32,
   "metadata": {},
   "outputs": [
    {
     "data": {
      "image/png": "[encoded data removed]",
      "text/plain": [
       "<matplotlib.figure.Figure at 0x2390da98c50>"
      ]
     },
     "metadata": {},
     "output_type": "display_data"
    },
    {
     "name": "stdout",
     "output_type": "stream",
     "text": [
      "Min = 0.164929831874\n",
      "Best degree = 12\n"
     ]
    }
   ],
   "source": [
    "w_2 = apply_least_squares(xfsub_2,y_sub2,30)"
   ]
  },
  {
   "cell_type": "markdown",
   "metadata": {},
   "source": [
    "## Train subset 3:"
   ]
  },
  {
   "cell_type": "code",
   "execution_count": 33,
   "metadata": {
    "collapsed": true
   },
   "outputs": [],
   "source": [
    "xfsub_3, mean3, std3 = filter_sub(x_sub3)\n",
    "xfsub_3 = (xfsub_3-mean3)/std3\n",
    "y_sub3  = np.array(y_sub3)"
   ]
  },
  {
   "cell_type": "code",
   "execution_count": 34,
   "metadata": {},
   "outputs": [
    {
     "data": {
      "image/png": "[encoded data removed]",
      "text/plain": [
       "<matplotlib.figure.Figure at 0x2395e637908>"
      ]
     },
     "metadata": {},
     "output_type": "display_data"
    },
    {
     "name": "stdout",
     "output_type": "stream",
     "text": [
      "Min = 0.163192564519\n",
      "Best degree = 12\n"
     ]
    }
   ],
   "source": [
    "w_3 = apply_least_squares(xfsub_3,y_sub3,30)"
   ]
  },
  {
   "cell_type": "markdown",
   "metadata": {},
   "source": [
    "## Create The Prediction"
   ]
  },
  {
   "cell_type": "code",
   "execution_count": 36,
   "metadata": {
    "collapsed": true
   },
   "outputs": [],
   "source": [
    "xte_sub0 = []\n",
    "xte_sub1 = []\n",
    "xte_sub2= []\n",
    "xte_sub3= []\n",
    "xte_ind = []\n",
    "\n",
    "for i in range(len(x_te)):\n",
    "    if x_te[i][22]==0:\n",
    "        xte_sub0.append(x_te[i])\n",
    "        xte_ind.append(0)\n",
    "    elif x_te[i][22]==1:\n",
    "        xte_sub1.append(x_te[i])\n",
    "        xte_ind.append(1)\n",
    "    elif x_te[i][22]==2:\n",
    "        xte_sub2.append(x_te[i])\n",
    "        xte_ind.append(2)\n",
    "    else:\n",
    "        xte_sub3.append(x_te[i])\n",
    "        xte_ind.append(3)"
   ]
  },
  {
   "cell_type": "code",
   "execution_count": 38,
   "metadata": {
    "collapsed": true
   },
   "outputs": [],
   "source": [
    "xfte_0, _, _ = filter_sub(xte_sub0)\n",
    "xfte_0 = (xfte_0 - mean0) / std0\n",
    "pol = build_poly(xfte_0,9)\n",
    "yres0 = predict_labels(w_0,pol)\n",
    "\n",
    "xfte_1,_,_ = filter_sub(xte_sub1)\n",
    "xfte_1 = (xfte_1 - mean1) / std1\n",
    "pol   = build_poly(xfte_1,16)\n",
    "yres1 =predict_labels(w_1,pol)\n",
    "\n",
    "xfte_2,_,_= filter_sub(xte_sub2)\n",
    "xfte_2=(xfte_2-mean2)/std2\n",
    "pol=build_poly(xfte_2,12)\n",
    "yres2=predict_labels(w_2,pol)\n",
    "\n",
    "xfte_3,_,_= filter_sub(xte_sub3)\n",
    "xfte_3=(xfte_3-mean3)/std3\n",
    "pol=build_poly(xfte_3,12)\n",
    "yres3=predict_labels(w_3,pol)"
   ]
  },
  {
   "cell_type": "code",
   "execution_count": 40,
   "metadata": {
    "collapsed": true
   },
   "outputs": [],
   "source": [
    "in0=0\n",
    "in1=0\n",
    "in2=0\n",
    "in3=0\n",
    "yresf=[]\n",
    "for i in range(len(x_te)):\n",
    "    if xte_ind[i]==0:\n",
    "        yresf.append(yres0[in0])\n",
    "        in0+=1\n",
    "    if xte_ind[i]==1:\n",
    "        yresf.append(yres1[in1])\n",
    "        in1+=1\n",
    "    if xte_ind[i]==2:\n",
    "        yresf.append(yres2[in2])\n",
    "        in2+=1\n",
    "    if xte_ind[i]==3:\n",
    "        yresf.append(yres3[in3])\n",
    "        in3+=1"
   ]
  },
  {
   "cell_type": "code",
   "execution_count": 41,
   "metadata": {},
   "outputs": [
    {
     "name": "stdout",
     "output_type": "stream",
     "text": [
      "(568238,)\n"
     ]
    }
   ],
   "source": [
    "print(np.shape(yresf))\n",
    "create_csv_submission(ids_te, yresf, \"ModelFin_3_2.csv\")"
   ]
  },
  {
   "cell_type": "markdown",
   "metadata": {},
   "source": [
    "# Logistic Test"
   ]
  },
  {
   "cell_type": "code",
   "execution_count": 154,
   "metadata": {
    "scrolled": true
   },
   "outputs": [
    {
     "name": "stdout",
     "output_type": "stream",
     "text": [
      "Current iteration=0, loss=34920.061809429484\n",
      "Current iteration=1000, loss=29777.469118912548\n",
      "Current iteration=2000, loss=28568.485493949218\n",
      "Current iteration=3000, loss=27798.312116740195\n",
      "Current iteration=4000, loss=27226.162371733048\n",
      "Current iteration=5000, loss=26768.31903731273\n",
      "Current iteration=6000, loss=26384.47406184802\n",
      "Current iteration=7000, loss=26052.409402642836\n",
      "Current iteration=8000, loss=25758.88286391996\n",
      "Current iteration=9000, loss=25497.541411986116\n",
      "Current iteration=10000, loss=25262.54821660929\n",
      "Current iteration=11000, loss=25049.07626241656\n",
      "Current iteration=12000, loss=24853.731509248635\n",
      "Current iteration=13000, loss=24673.936618491887\n",
      "Current iteration=14000, loss=24507.666285502495\n",
      "Current iteration=15000, loss=24353.285559448555\n",
      "Current iteration=16000, loss=24209.44678803088\n",
      "Current iteration=17000, loss=24075.0212584079\n",
      "Current iteration=18000, loss=23949.051933422925\n",
      "Current iteration=19000, loss=23830.719405349308\n"
     ]
    }
   ],
   "source": [
    "yq=np.array([(y_sub2)]).T\n",
    "y=(yq+1)/2\n",
    "tx = build_poly(xfsub_2,3)\n",
    "w_int = np.zeros((tx.shape[1], 1))\n",
    "w,losses=reg_logistic_regression(y, tx,0.1,w_int , 20000, 0.000000005)\n"
   ]
  },
  {
   "cell_type": "code",
   "execution_count": 156,
   "metadata": {},
   "outputs": [
    {
     "data": {
      "text/plain": [
       "0.21282677306020364"
      ]
     },
     "execution_count": 156,
     "metadata": {},
     "output_type": "execute_result"
    }
   ],
   "source": [
    "compute_categorical_loss(yq, tx, w)"
   ]
  }
 ],
 "metadata": {
  "kernelspec": {
   "display_name": "Python 3",
   "language": "python",
   "name": "python3"
  },
  "language_info": {
   "codemirror_mode": {
    "name": "ipython",
    "version": 3
   },
   "file_extension": ".py",
   "mimetype": "text/x-python",
   "name": "python",
   "nbconvert_exporter": "python",
   "pygments_lexer": "ipython3",
   "version": "3.6.3"
  }
 },
 "nbformat": 4,
 "nbformat_minor": 2
}
