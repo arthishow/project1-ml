{
 "cells": [
  {
   "cell_type": "code",
   "execution_count": 1,
   "metadata": {
    "collapsed": true
   },
   "outputs": [],
   "source": [
    "#import useful package \n",
    "from proj1_helpers import *\n",
    "from ridge_regression import *\n",
    "from split_data import *\n",
    "from gradient_descent import *\n",
    "from costs import *\n",
    "from build_polynomial import *\n",
    "from cross_validation import *\n",
    "from least_squares import *\n",
    "from plots import *\n",
    "import numpy as np"
   ]
  },
  {
   "cell_type": "code",
   "execution_count": 2,
   "metadata": {
    "collapsed": true
   },
   "outputs": [],
   "source": [
    "#import the data\n",
    "yb,inputdata,ids=load_csv_data(\"train.csv\")"
   ]
  },
  {
   "cell_type": "markdown",
   "metadata": {},
   "source": [
    "# Model 1 (without sparse data columns)"
   ]
  },
  {
   "cell_type": "code",
   "execution_count": 3,
   "metadata": {
    "collapsed": true
   },
   "outputs": [],
   "source": [
    "def build_k_indices(y, k_fold, seed):\n",
    "    \"\"\"build k indices for k-fold.\"\"\"\n",
    "    num_row = y.shape[0]\n",
    "    interval = int(num_row / k_fold)\n",
    "    np.random.seed(seed)\n",
    "    indices = np.random.permutation(num_row)\n",
    "    k_indices = [indices[k * interval: (k + 1) * interval]\n",
    "                 for k in range(k_fold)]\n",
    "    return np.array(k_indices)"
   ]
  },
  {
   "cell_type": "code",
   "execution_count": 4,
   "metadata": {
    "collapsed": true
   },
   "outputs": [],
   "source": [
    "#Take only the columns that are not sparce\n",
    "l = [np.count_nonzero(np.transpose(inputdata)[i] ==-999)==0 for i in range (30)]\n",
    "xfilter = np.transpose(np.transpose(inputdata)[l])"
   ]
  },
  {
   "cell_type": "code",
   "execution_count": 5,
   "metadata": {
    "collapsed": true
   },
   "outputs": [],
   "source": [
    "# Useful starting lines\n",
    "%matplotlib inline\n",
    "import numpy as np\n",
    "import matplotlib.pyplot as plt\n",
    "%load_ext autoreload\n",
    "%autoreload 2"
   ]
  },
  {
   "cell_type": "code",
   "execution_count": 79,
   "metadata": {},
   "outputs": [
    {
     "name": "stdout",
     "output_type": "stream",
     "text": [
      "[  1.00000000e-20   1.04811313e-19   1.09854114e-18   1.15139540e-17\n",
      "   1.20679264e-16   1.26485522e-15   1.32571137e-14   1.38949549e-13\n",
      "   1.45634848e-12   1.52641797e-11   1.59985872e-10   1.67683294e-09\n",
      "   1.75751062e-08   1.84206997e-07   1.93069773e-06   2.02358965e-05\n",
      "   2.12095089e-04   2.22299648e-03   2.32995181e-02   2.44205309e-01\n",
      "   2.55954792e+00   2.68269580e+01   2.81176870e+02   2.94705170e+03\n",
      "   3.08884360e+04   3.23745754e+05   3.39322177e+06   3.55648031e+07\n",
      "   3.72759372e+08   3.90693994e+09   4.09491506e+10   4.29193426e+11\n",
      "   4.49843267e+12   4.71486636e+13   4.94171336e+14   5.17947468e+15\n",
      "   5.42867544e+16   5.68986603e+17   5.96362332e+18   6.25055193e+19\n",
      "   6.55128557e+20   6.86648845e+21   7.19685673e+22   7.54312006e+23\n",
      "   7.90604321e+24   8.28642773e+25   8.68511374e+26   9.10298178e+27\n",
      "   9.54095476e+28   1.00000000e+30]\n",
      "[0.79401328267671412, 0.79401328267671412, 0.79401328267671412, 0.79401328267671412, 0.79401334790987566, 0.79401383412100246, 0.79401321403871339, 0.79401367897026598, 0.79401303277963142, 0.79401295896139856, 0.79401295882643252, 0.79401296035111013, 0.7940135300523361, 0.79404192522510231, 0.79429161687324146, 0.7944794646269997, 0.79503279716631037, 0.79663363968235357, 0.79755929084299826, 0.79923366735397217, 0.80241314831724431, 0.8081256288248152, 0.81719055894544601, 0.82273307007187646, 0.83107625384911699, 0.84922243832758681, 0.85891932171609053, 0.86109493682703675, 0.86271324859272636, 0.88141004685529811, 0.91548530292847885, 0.9291797693985191, 0.93357157040441385, 0.93570469778409682, 0.94780227780313653, 0.96768408620853563, 0.97737093586018953, 0.98450399888425311, 0.98738635820714005, 0.98997022179630711, 0.99225376884451089, 0.99373227762230132, 0.99493671347241786, 0.99631090881756257, 0.99700483345506885, 0.99799915456078758, 0.9986404751473491, 0.99890059293540279, 0.99910206963320514, 0.99924276317404193]\n",
      "[64811.277276880261, 64811.277276880261, 64811.277276880261, 64811.277276880261, 64811.097264573196, 64812.018834178401, 64811.981662028309, 64812.065489364315, 64812.580850653954, 64812.550492487069, 64813.392442861375, 64822.029963112545, 64917.998444006575, 65787.317020651768, 67981.709249095307, 69139.054589354448, 74637.605251761241, 81542.935858388752, 82767.308298650081, 91881.030268996517, 108728.35856303718, 143370.92842583221, 146137.61730165311, 90454.017646256863, 151685.98545622802, 375760.26901528606, 413727.06853353302, 366387.07731182349, 166211.19876095769, 12749.372602349518, 106781.68057575007, 123593.92829948994, 104810.26316364206, 71654.750222705698, 36951.092913512344, 6864.916102040951, 1876.4697374093246, 1886.5956365982797, 5691.061088864396, 6774.389247988207, 2525.0934897669658, 27.452531617143617, 195.06115566130092, 161.70567701690919, 857.35236638132551, 1071.1069299845567, 690.93428847633118, 232.61840807933282, 138.28800334051851, 150.15109234565543]\n"
     ]
    },
    {
     "data": {
      "image/png": "[encoded data removed]",
      "text/plain": [
       "<matplotlib.figure.Figure at 0x1eebf3890b8>"
      ]
     },
     "metadata": {},
     "output_type": "display_data"
    }
   ],
   "source": [
    "def cross_validation_demo():\n",
    "    seed = 2\n",
    "    degree = 7\n",
    "    k_fold = 4\n",
    "    lambdas = np.logspace(-20, 30, 50)\n",
    "    # split data in k fold\n",
    "    k_indices = build_k_indices(yb, k_fold, seed)\n",
    "    # define lists to store the loss of training data and test data\n",
    "    rmse_tr = []\n",
    "    rmse_te = []\n",
    "  \n",
    "    for lambda_ in lambdas:\n",
    "        \n",
    "        avgtrain = 0\n",
    "        avgtest = 0\n",
    "        \n",
    "        for k in range(k_fold):\n",
    "            loss_tr , loss_te = cross_validation(yb, xfilter, k_indices, k, lambda_, degree)\n",
    "            avgtrain += (1/k_fold)*loss_tr\n",
    "            avgtest += (1/k_fold)*loss_te\n",
    "        \n",
    "        rmse_tr.append(np.sqrt(2*avgtrain))\n",
    "        rmse_te.append(np.sqrt(2*avgtest))\n",
    "\n",
    "    cross_validation_visualization(lambdas, rmse_tr, rmse_te)\n",
    "\n",
    "cross_validation_demo()"
   ]
  },
  {
   "cell_type": "code",
   "execution_count": 31,
   "metadata": {},
   "outputs": [],
   "source": [
    "def accuracy(y, tx, w):\n",
    "    \"\"\"Calculate the accuracy of a prediction\n",
    "    \"\"\"\n",
    "    pred=predict_labels(w,tx)\n",
    "    e=y-pred\n",
    "    return 1-(sum(abs(e/2))/len(e))\n"
   ]
  },
  {
   "cell_type": "code",
   "execution_count": 29,
   "metadata": {},
   "outputs": [
    {
     "name": "stdout",
     "output_type": "stream",
     "text": [
      "0.601511111111\n"
     ]
    }
   ],
   "source": [
    "lambda_=3.79269019e+09\n",
    "x_train,x_test,y_train,y_test=split_data(xfilter, yb, 0.9, 1)\n",
    "polytrain=build_poly(x_train,10)\n",
    "polytest=build_poly(x_test,6)\n",
    "w=ridge_regression(y_train,polytrain,0)\n",
    "accuracy(y_train,polytrain,w)\n"
   ]
  },
  {
   "cell_type": "code",
   "execution_count": 46,
   "metadata": {},
   "outputs": [
    {
     "name": "stdout",
     "output_type": "stream",
     "text": [
      "250000\n",
      "0\n"
     ]
    },
    {
     "data": {
      "image/png": "[encoded data removed]",
      "text/plain": [
       "<matplotlib.figure.Figure at 0x169820faf28>"
      ]
     },
     "metadata": {},
     "output_type": "display_data"
    }
   ],
   "source": [
    "x_train,x_test,y_train,y_test=split_data(xfilter, yb, 1, 1)\n",
    "print(len(x_train))\n",
    "print(len(x_test))\n",
    "degree=[1,2,3,4,5,6,7,8,9,10,11,12,13,14,15,16,17,18,19,20]\n",
    "rmse_tr=[]\n",
    "rmse_te=[]\n",
    "for d in degree:\n",
    "    polytrain=build_poly(x_train,d)\n",
    "    #polytest=build_poly(x_test,degree)\n",
    "    w=least_squares(y_train,polytrain)\n",
    "    rmse_tr.append(accuracy(y_train,polytrain,w))\n",
    "    #rmse_te.append(accuracy(y_test,polytest,w))\n",
    "plt.plot(degree, rmse_tr, 'r') \n",
    "#plt.plot(degree, rmse_te, 'b')\n",
    "plt.show()\n"
   ]
  },
  {
   "cell_type": "code",
   "execution_count": 49,
   "metadata": {},
   "outputs": [
    {
     "name": "stdout",
     "output_type": "stream",
     "text": [
      "0.785268\n"
     ]
    }
   ],
   "source": [
    "print(rmse_tr[9])"
   ]
  },
  {
   "cell_type": "code",
   "execution_count": 50,
   "metadata": {},
   "outputs": [
    {
     "data": {
      "text/plain": [
       "0.76308399999999998"
      ]
     },
     "execution_count": 50,
     "metadata": {},
     "output_type": "execute_result"
    }
   ],
   "source": [
    "polytrain=build_poly(x,10)\n",
    "w=least_squares(yb,polytrain)\n",
    "accuracy(yb,polytrain,w)"
   ]
  },
  {
   "cell_type": "code",
   "execution_count": null,
   "metadata": {
    "collapsed": true
   },
   "outputs": [],
   "source": []
  }
 ],
 "metadata": {
  "kernelspec": {
   "display_name": "Python 3",
   "language": "python",
   "name": "python3"
  },
  "language_info": {
   "codemirror_mode": {
    "name": "ipython",
    "version": 3
   },
   "file_extension": ".py",
   "mimetype": "text/x-python",
   "name": "python",
   "nbconvert_exporter": "python",
   "pygments_lexer": "ipython3",
   "version": "3.6.3"
  }
 },
 "nbformat": 4,
 "nbformat_minor": 2
}
