{
 "cells": [
  {
   "cell_type": "code",
   "execution_count": 28,
   "metadata": {},
   "outputs": [
    {
     "name": "stdout",
     "output_type": "stream",
     "text": [
      "The autoreload extension is already loaded. To reload it, use:\n",
      "  %reload_ext autoreload\n"
     ]
    }
   ],
   "source": [
    "from proj1_helpers import *\n",
    "from implementations import *\n",
    "from split_data import *\n",
    "from gradient_descent import *\n",
    "from costs import *\n",
    "from build_polynomial import *\n",
    "from cross_validation import *\n",
    "from plots import *\n",
    "import numpy as np\n",
    "\n",
    "%matplotlib inline\n",
    "import numpy as np\n",
    "import matplotlib.pyplot as plt\n",
    "%load_ext autoreload\n",
    "%autoreload 2"
   ]
  },
  {
   "cell_type": "code",
   "execution_count": 29,
   "metadata": {
    "collapsed": true
   },
   "outputs": [],
   "source": [
    "#import the data\n",
    "yb, inputdata, ids = load_csv_data(\"train.csv\")"
   ]
  },
  {
   "cell_type": "code",
   "execution_count": 30,
   "metadata": {
    "collapsed": true
   },
   "outputs": [],
   "source": [
    "def accuracys(y, tx, w):\n",
    "    \"\"\"Calculate the accuracy of a prediction\n",
    "    \"\"\"\n",
    "    pred=predict_labels(w,tx)\n",
    "    e=y-pred\n",
    "    return 1-(sum(abs(e/2))/len(e))\n",
    "def fast_buildpoly(x,ma,degree):\n",
    "    return np.c_[ma,np.power(x, degree)]\n",
    "\n",
    "def specialmean(x):\n",
    "    filt = [e! = -999 for e in x]\n",
    "    return np.mean(x[filt])\n",
    "\n",
    "def specialstd(x):\n",
    "    filt = [e!=-999 for e in x]\n",
    "    return np.std(x[filt])\n",
    "\n",
    "def predict_labels_train(weights, data, thr):\n",
    "    \"\"\"Generates class predictions given weights, and a test data matrix\"\"\"\n",
    "    y_pred = np.dot(data, weights)\n",
    "    y_pred[np.where(y_pred <= thr)] = -1\n",
    "    y_pred[np.where(y_pred > thr)] = 1\n",
    "    \n",
    "    return y_pred"
   ]
  },
  {
   "cell_type": "markdown",
   "metadata": {},
   "source": [
    "# Model 1: Linear Regression (without sparse data columns)"
   ]
  },
  {
   "cell_type": "code",
   "execution_count": 31,
   "metadata": {
    "collapsed": true
   },
   "outputs": [],
   "source": [
    "#Take only the columns that are not sparce\n",
    "full_coll = [np.count_nonzero(np.transpose(inputdata)[i] ==-999)==0 for i in range (30)]\n",
    "x_1 = np.transpose(np.transpose(inputdata)[full_coll])\n",
    "x_1 = (x_1-np.mean(x_1,axis=0) ) / np.std(x_1,axis=0)"
   ]
  },
  {
   "cell_type": "code",
   "execution_count": 32,
   "metadata": {},
   "outputs": [
    {
     "data": {
      "image/png": "[encoded data removed]",
      "text/plain": [
       "<matplotlib.figure.Figure at 0x19e9eae8358>"
      ]
     },
     "metadata": {},
     "output_type": "display_data"
    }
   ],
   "source": [
    "degree = np.arange(20)\n",
    "acc = []\n",
    "polyx = np.ones((len(x_1), 1))\n",
    "for d in degree:\n",
    "    polyx=fast_buildpoly(xfilter,polyx,d+1)\n",
    "    w, _ =least_squares(yb,polyx)\n",
    "    acc.append(accuracys(yb,polyx,w))\n",
    "plt.plot(degree, acc, 'r') \n",
    "plt.show()\n",
    "#todo display axis"
   ]
  },
  {
   "cell_type": "markdown",
   "metadata": {},
   "source": [
    "By applying linear regression with different degree we find that the best fit seams to be 9"
   ]
  },
  {
   "cell_type": "markdown",
   "metadata": {
    "collapsed": true
   },
   "source": [
    "# Model 2: Linear regression with unknown set up to the mean"
   ]
  },
  {
   "cell_type": "code",
   "execution_count": 34,
   "metadata": {
    "collapsed": true
   },
   "outputs": [],
   "source": [
    "#replace unknown to mean and normalize\n",
    "inT=np.transpose(inputdata)\n",
    "means = [specialmean(a) for a in inT]\n",
    "std = [specialstd(a) for a in inT]\n",
    "x_2 = np.transpose([[x if x!=-999 else means[i] for x in inT[i]] for i in range(len(inT))] )\n",
    "x_2 = (x_2-means)/std\n",
    "#\n",
    "x_2T = np.transpose(x_2)\n",
    "x_2T = [[x if abs(x)<2 else 0 for x in x_2T[i]] for i in range(len(x_2T))] \n",
    "x_2 = np.transpose(x_2T)"
   ]
  },
  {
   "cell_type": "code",
   "execution_count": 38,
   "metadata": {},
   "outputs": [
    {
     "data": {
      "image/png": "[encoded data removed]",
      "text/plain": [
       "<matplotlib.figure.Figure at 0x19ec1593630>"
      ]
     },
     "metadata": {},
     "output_type": "display_data"
    }
   ],
   "source": [
    "degree = np.arange(30)\n",
    "acc_2 = []\n",
    "polyx_2 = np.ones((len(x_2), 1))\n",
    "for d in degree:\n",
    "    polyx_2 = fast_buildpoly(x_2,polyx_2,d+1)\n",
    "    w2 = least_squares(yb,polyx_2)\n",
    "    acc_2.append(accuracys(yb,polyx_2,w2))\n",
    "plt.plot(degree, acc_2, 'r')\n",
    "plt.show()"
   ]
  },
  {
   "cell_type": "markdown",
   "metadata": {},
   "source": [
    "# Model 3 : Delete the correlate variable"
   ]
  },
  {
   "cell_type": "code",
   "execution_count": 39,
   "metadata": {
    "collapsed": true
   },
   "outputs": [],
   "source": [
    "#replace unknown to mean and normalize\n",
    "inT=np.transpose(inputdata)\n",
    "means = [specialmean(a) for a in inT]\n",
    "std = [specialstd(a) for a in inT]\n",
    "x_3 = np.transpose([[x if x!=-999 else means[i] for x in inT[i]] for i in range(len(inT))] )\n",
    "x_3 = (x_3-means)/std\n",
    "#\n",
    "x_3T = np.transpose(x_3)\n",
    "x_3T = [[x if abs(x)<2 else 0 for x in x_3T[i]] for i in range(len(x_3T))] \n",
    "x_3 = np.transpose(x_3T)"
   ]
  },
  {
   "cell_type": "code",
   "execution_count": 44,
   "metadata": {
    "scrolled": true
   },
   "outputs": [
    {
     "name": "stdout",
     "output_type": "stream",
     "text": [
      "0 , 2 : 0.684987694499\n",
      "3 , 9 : 0.725834860096\n",
      "3 , 21 : 0.664138459818\n",
      "3 , 22 : 0.637397556685\n",
      "3 , 29 : 0.730705913891\n",
      "4 , 5 : 0.74663104988\n",
      "4 , 6 : 0.794500732265\n",
      "4 , 12 : 0.621641512705\n",
      "5 , 6 : 0.656766593897\n",
      "9 , 21 : 0.785371539358\n",
      "9 , 22 : 0.704894458905\n",
      "9 , 29 : 0.897463868475\n",
      "21 , 22 : 0.610576244544\n",
      "21 , 29 : 0.749078184417\n",
      "22 , 29 : 0.754312248767\n"
     ]
    }
   ],
   "source": [
    "for i in range(30):\n",
    "    for j in range(30):\n",
    "        if i != j and i < j:\n",
    "            corr = np.abs(np.corrcoef(x_3T[j],x_3T[i])[1][0])\n",
    "            if corr > 0.6:\n",
    "                print(str(i)+\" , \"+str(j)+\" : \"+ str(corr))"
   ]
  },
  {
   "cell_type": "markdown",
   "metadata": {},
   "source": [
    "We can try to delete the collumn 0,3,4,5,9,21,22\n"
   ]
  }
 ],
 "metadata": {
  "kernelspec": {
   "display_name": "Python [default]",
   "language": "python",
   "name": "python3"
  },
  "language_info": {
   "codemirror_mode": {
    "name": "ipython",
    "version": 3
   },
   "file_extension": ".py",
   "mimetype": "text/x-python",
   "name": "python",
   "nbconvert_exporter": "python",
   "pygments_lexer": "ipython3",
   "version": "3.6.5"
  }
 },
 "nbformat": 4,
 "nbformat_minor": 2
}
