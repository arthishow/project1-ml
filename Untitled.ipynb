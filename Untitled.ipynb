{
 "cells": [
  {
   "cell_type": "code",
   "execution_count": 69,
   "metadata": {
    "collapsed": true
   },
   "outputs": [],
   "source": [
    "from proj1_helpers import *\n"
   ]
  },
  {
   "cell_type": "code",
   "execution_count": 70,
   "metadata": {
    "collapsed": true
   },
   "outputs": [],
   "source": [
    "yb,inputdata,ids=load_csv_data(\"train.csv\")\n",
    "tra=np.transpose(inputdata)\n",
    "l=[np.count_nonzero(tra[i] ==-999)==0 for i in range (30)]\n",
    "train1=np.transpose(tra[l])\n"
   ]
  },
  {
   "cell_type": "code",
   "execution_count": 79,
   "metadata": {},
   "outputs": [],
   "source": [
    "from ridge_regression import *\n",
    "from split_data import *\n",
    "\n",
    "xtrain,xtest,ytrain,ytest=split_data(train1, yb, 0.98, seed=3)"
   ]
  },
  {
   "cell_type": "code",
   "execution_count": 86,
   "metadata": {},
   "outputs": [
    {
     "name": "stdout",
     "output_type": "stream",
     "text": [
      "0.871651452304\n",
      "0.869105315464\n"
     ]
    }
   ],
   "source": [
    "from gradient_descent import *\n",
    "from costs import *\n",
    "w=ridge_regression(ytrain, xtrain, 100)\n",
    "print(np.sqrt(2*compute_loss(ytrain,xtrain,w)))\n",
    "print(np.sqrt(2*compute_loss(ytest,xtest,w)))"
   ]
  },
  {
   "cell_type": "code",
   "execution_count": 87,
   "metadata": {},
   "outputs": [
    {
     "name": "stdout",
     "output_type": "stream",
     "text": [
      "[ -8.02754679e-03  -6.03745104e-04   1.45707378e-03   8.43441990e-05\n",
      "  -1.20107003e-03   1.59511582e-03  -3.32044573e-04   6.05793489e-04\n",
      "   3.66813150e-03  -6.15252719e-06  -3.83220501e-05  -8.97527877e-04\n",
      "  -1.05487316e-06   2.49164684e-05  -1.37817322e-04   1.62331471e-05\n",
      "  -8.22738839e-04   5.72586085e-05  -1.17548393e-03]\n"
     ]
    }
   ],
   "source": [
    "print(w)\n"
   ]
  },
  {
   "cell_type": "code",
   "execution_count": null,
   "metadata": {
    "collapsed": true
   },
   "outputs": [],
   "source": []
  }
 ],
 "metadata": {
  "kernelspec": {
   "display_name": "Python 3",
   "language": "python",
   "name": "python3"
  },
  "language_info": {
   "codemirror_mode": {
    "name": "ipython",
    "version": 3
   },
   "file_extension": ".py",
   "mimetype": "text/x-python",
   "name": "python",
   "nbconvert_exporter": "python",
   "pygments_lexer": "ipython3",
   "version": "3.6.3"
  }
 },
 "nbformat": 4,
 "nbformat_minor": 2
}
